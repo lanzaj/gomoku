 {
  "cells": [
    {
      "cell_type": "markdown",
      "metadata": {
        "id": "fxhV6iFsnVtG"
      },
      "source": [
        "#**[Can You Create a Strategic Connect 4 AI Opponent?](https://www.sciencebuddies.org/science-fair-projects/project-ideas/ArtificialIntelligence_p014/artificial-intelligence/alpha-beta-connect4)**\n",
        "\n",
        "This notebook was developed by Science Buddies [www.sciencebuddies.org](https://www.sciencebuddies.org/) as part of a science project to allow students to explore and learn about artificial intelligence. The code is adapted from [Keith Galli's work at MIT](https://github.com/KeithGalli/Connect4-Python/blob/master/README.md) (2019) and is available under the copyright notice provided below. For personal use, this notebook can be downloaded and modified with attribution. For all other uses, please see our [Terms and Conditions of Fair Use](https://www.sciencebuddies.org/about/terms-and-conditions-of-fair-use).  \n",
        "\n",
        "**Troubleshooting tips**\n",
        "*   Read the written instructions at Science Buddies and the text and comments on this page carefully.\n",
        "*   If you make changes that break the code, you can download a fresh copy of this notebook and start over.\n",
        "\n",
        "*   If you are using this notebook for a science project and need help, visit our [Ask an Expert](https://www.sciencebuddies.org/science-fair-projects/ask-an-expert-intro) forum for assistance."
      ]
    },
    {
      "cell_type": "markdown",
      "source": [
        "MIT License\n",
        "\n",
        "Copyright (c) 2019 Keith Galli\n",
        "\n",
        "Permission is hereby granted, free of charge, to any person obtaining a copy\n",
        "of this software and associated documentation files (the \"Software\"), to deal\n",
        "in the Software without restriction, including without limitation the rights\n",
        "to use, copy, modify, merge, publish, distribute, sublicense, and/or sell\n",
        "copies of the Software, and to permit persons to whom the Software is\n",
        "furnished to do so, subject to the following conditions:\n",
        "\n",
        "The above copyright notice and this permission notice shall be included in all\n",
        "copies or substantial portions of the Software.\n",
        "\n",
        "THE SOFTWARE IS PROVIDED \"AS IS\", WITHOUT WARRANTY OF ANY KIND, EXPRESS OR\n",
        "IMPLIED, INCLUDING BUT NOT LIMITED TO THE WARRANTIES OF MERCHANTABILITY,\n",
        "FITNESS FOR A PARTICULAR PURPOSE AND NONINFRINGEMENT. IN NO EVENT SHALL THE\n",
        "AUTHORS OR COPYRIGHT HOLDERS BE LIABLE FOR ANY CLAIM, DAMAGES OR OTHER\n",
        "LIABILITY, WHETHER IN AN ACTION OF CONTRACT, TORT OR OTHERWISE, ARISING FROM,\n",
        "OUT OF OR IN CONNECTION WITH THE SOFTWARE OR THE USE OR OTHER DEALINGS IN THE\n",
        "SOFTWARE."
      ],
      "metadata": {
        "id": "KGFhIkXpbmZa"
      }
    },
    {
      "cell_type": "markdown",
      "metadata": {
        "id": "VLOSJ9Blnpr8"
      },
      "source": [
        "## **How To Use This Notebook**\n",
        "\n",
        "This notebook contains text fields, like this one, that give you information about the project and instructions."
      ]
    },
    {
      "cell_type": "code",
      "execution_count": 1,
      "metadata": {
        "id": "tS2sG6s4nsNb",
        "colab": {
          "base_uri": "https://localhost:8080/"
        },
        "outputId": "72846324-33cb-4c08-ba91-8d9f1492e1a8"
      },
      "outputs": [
        {
          "output_type": "stream",
          "name": "stdout",
          "text": [
            "Congratulations, you ran a code block! Try changing the text in the code and running it again.\n"
          ]
        }
      ],
      "source": [
        "# There are also code blocks, like this one.\n",
        "\n",
        "# The green text in a code block are comments. Comments are descriptions of what the code does.\n",
        "\n",
        "# The non-green text in a code block is the Python code. Click the box in the top left corner of the code block.\n",
        "\n",
        "print(\"Congratulations, you ran a code block! Try changing the text in the code and running it again.\")"
      ]
    },
    {
      "cell_type": "markdown",
      "metadata": {
        "id": "afNSI2hYnuBj"
      },
      "source": [
        "## Importing Libraries"
      ]
    },
    {
      "cell_type": "code",
      "execution_count": 2,
      "metadata": {
        "id": "YYVNyZVSGHph"
      },
      "outputs": [],
      "source": [
        "# NumPy is a library for numerical operations in Python.\n",
        "# It provides support for large, multi-dimensional arrays and matrices, along with mathematical functions.\n",
        "import numpy as np\n",
        "\n",
        "# Math is a built-in Python library that provides mathematical functions and operations.\n",
        "# In this case, it is imported for general mathematical operations.\n",
        "import math\n",
        "\n",
        "# Random is a built-in Python library for generating pseudo-random numbers.\n",
        "# It provides functions for random number generation, shuffling sequences, and making random choices.\n",
        "import random"
      ]
    },
    {
      "cell_type": "markdown",
      "metadata": {
        "id": "Z519ljwEpOCE"
      },
      "source": [
        "## Preparing Our Game Environment"
      ]
    },
    {
      "cell_type": "code",
      "execution_count": 3,
      "metadata": {
        "id": "sG9jJpQaGS9d"
      },
      "outputs": [],
      "source": [
        "# Defining our constants\n",
        "\n",
        "# Constants representing the dimensions of the game board\n",
        "ROW_COUNT = 6\n",
        "COLUMN_COUNT = 7\n",
        "\n",
        "# Constants representing player and AI indices\n",
        "PLAYER = 0\n",
        "AI = 1\n",
        "\n",
        "# Constants representing player and AI game pieces on the board\n",
        "PLAYER_PIECE = 1\n",
        "AI_PIECE = 2"
      ]
    },
    {
      "cell_type": "code",
      "execution_count": 4,
      "metadata": {
        "id": "oYCVwqopGmGS"
      },
      "outputs": [],
      "source": [
        "# Function to create an empty game board.\n",
        "def create_board():\n",
        "    board = np.zeros((ROW_COUNT, COLUMN_COUNT))\n",
        "    return board\n",
        "\n",
        "# Function to drop a game piece into a specified position.\n",
        "def drop_piece(board, row, col, piece):\n",
        "    board[row][col] = piece\n",
        "\n",
        "# Function to check if a column is a valid location for placing a piece.\n",
        "def is_valid_location(board, col):\n",
        "    return board[ROW_COUNT-1][col] == 0\n",
        "\n",
        "# Function to find the next open row in a given column.\n",
        "def get_next_open_row(board, col):\n",
        "    for r in range(ROW_COUNT):\n",
        "        if board[r][col] == 0:\n",
        "            return r\n",
        "\n",
        "# Function to print the game board with flipped orientation.\n",
        "def print_board(board):\n",
        "    flipped_board = np.flip(board, 0)\n",
        "    rows, cols = flipped_board.shape\n",
        "\n",
        "    flipped_board = flipped_board.astype(int)\n",
        "\n",
        "    for i in range(rows):\n",
        "        print(\"|\", end=\"\")\n",
        "        for j in range(cols):\n",
        "            print(f\"{flipped_board[i, j]:2}\", end=\" |\")\n",
        "        print()\n",
        "\n",
        "    print(\"-\" * (cols * 4))\n",
        "\n",
        "    print(\"|\", end=\" \")\n",
        "    for j in range(cols):\n",
        "        print(f\"{j}\", end=\" | \")\n",
        "\n",
        "# Function to check if a player has a winning move on the board.\n",
        "def winning_move(board, piece):\n",
        "    # Check horizontal locations\n",
        "    for c in range(COLUMN_COUNT-3):\n",
        "        for r in range(ROW_COUNT):\n",
        "            if board[r][c] == piece and board[r][c+1] == piece and board[r][c+2] == piece and board[r][c+3] == piece:\n",
        "                return True\n",
        "    # Check vertical locations for win\n",
        "    for c in range(COLUMN_COUNT):\n",
        "        for r in range(ROW_COUNT-3):\n",
        "            if board[r][c] == piece and board[r+1][c] == piece and board[r+2][c] == piece and board[r+3][c] == piece:\n",
        "                return True\n",
        "\n",
        "    # Check positively sloped diagonals\n",
        "    for c in range(COLUMN_COUNT-3):\n",
        "        for r in range(ROW_COUNT-3):\n",
        "            if board[r][c] == piece and board[r+1][c+1] == piece and board[r+2][c+2] == piece and board[r+3][c+3] == piece:\n",
        "                return True\n",
        "    # Check negatively sloped diagonals\n",
        "    for c in range(COLUMN_COUNT-3):\n",
        "        for r in range(3 ,ROW_COUNT):\n",
        "            if board[r][c] == piece and board[r-1][c+1] == piece and board[r-2][c+2] == piece and board[r-3][c+3] == piece:\n",
        "                return True\n",
        "\n",
        "# Function to get a list of valid locations for placing a piece.\n",
        "def get_valid_locations(board):\n",
        "    valid_locations = []\n",
        "    for col in range(COLUMN_COUNT):\n",
        "        if is_valid_location(board, col):\n",
        "            valid_locations.append(col)\n",
        "    return valid_locations"
      ]
    },
    {
      "cell_type": "markdown",
      "metadata": {
        "id": "sJSjbLdUqbW-"
      },
      "source": [
        "# Creating Our Alpha-Beta Connect4 AI Player"
      ]
    },
    {
      "cell_type": "code",
      "execution_count": 5,
      "metadata": {
        "id": "OxYFuO3jG1Fj"
      },
      "outputs": [],
      "source": [
        "# Function to score the position of a game board for a given player.\n",
        "def score_position(board, piece):\n",
        "    score = 0\n",
        "    opponent_piece = PLAYER_PIECE\n",
        "\n",
        "    # Evaluation board for scoring positions on the actual game board.\n",
        "\n",
        "    # TODO: Fill in values for this board. Give higher values to the positions that you think\n",
        "    # lead to more wins, and lower values to the positions you think can result in less winning combinations.\n",
        "    evaluation_board = np.array([[0, 0, 0, 0, 0, 0, 0],\n",
        "                                 [0, 0, 0, 0, 0, 0, 0],\n",
        "                                 [0, 0, 0, 0, 0, 0, 0],\n",
        "                                 [0, 0, 0, 0, 0, 0, 0],\n",
        "                                 [0, 0, 0, 0, 0, 0, 0],\n",
        "                                 [0, 0, 0, 0, 0, 0, 0]])\n",
        "\n",
        "    # NOTE for students:\n",
        "    # The evaluation_board is flipped so row 0 is the top row and row 5 is the bottom row, matching how you see the game.\n",
        "    evaluation_board = np.flip(evaluation_board, 0)\n",
        "\n",
        "    # Calculate scores for the given player's and opponent's pieces on the board.\n",
        "    piece_score = np.sum(evaluation_board[board == piece])\n",
        "    opponent_score = np.sum(evaluation_board[board == opponent_piece])\n",
        "\n",
        "    # Calculate the final score by subtracting the opponent's score from the player's score.\n",
        "    score = piece_score - opponent_score\n",
        "    return score\n",
        "\n",
        "# Function to check if a game board is a terminal node (end of the game).\n",
        "def is_terminal_node(board):\n",
        "    return winning_move(board, PLAYER_PIECE) or winning_move(board, AI_PIECE) or (len(get_valid_locations(board)) == 0)\n",
        "\n",
        "# Minimax algorithm with Alpha-Beta Pruning for finding the best move on the game board.\n",
        "def minimax(board, depth, alpha, beta, maximizingPlayer):\n",
        "    valid_locations = get_valid_locations(board)\n",
        "    is_terminal = is_terminal_node(board)\n",
        "\n",
        "    # Base case: If the depth is zero or the game is over, return the current board's score.\n",
        "    if depth == 0 or is_terminal:\n",
        "        if is_terminal:\n",
        "            if winning_move(board, AI_PIECE):\n",
        "                return (None, math.inf)\n",
        "            elif winning_move(board, PLAYER_PIECE):\n",
        "                return (None, -math.inf)\n",
        "            else: # Game is over, no more valid moves\n",
        "                return (None, 0)\n",
        "        else: # Depth is zero\n",
        "            return (None, score_position(board, AI_PIECE))\n",
        "\n",
        "    # Maximize the score if it's the maximizing player's turn\n",
        "    if maximizingPlayer:\n",
        "        value = -math.inf\n",
        "        column = random.choice(valid_locations)\n",
        "        for col in valid_locations:\n",
        "            row = get_next_open_row(board, col)\n",
        "            b_copy = board.copy()\n",
        "            drop_piece(b_copy, row, col, AI_PIECE)\n",
        "            new_score = minimax(b_copy, depth-1, alpha, beta, False)[1]\n",
        "\n",
        "            # Update the best move and alpha value.\n",
        "            if new_score > value:\n",
        "                value = new_score\n",
        "                column = col\n",
        "            alpha = max(alpha, value)\n",
        "\n",
        "            # Prune the search if the alpha value is greater than or equal to beta.\n",
        "            if alpha >= beta:\n",
        "                break\n",
        "        return column, value\n",
        "\n",
        "    else: # Minimize the score if it's the minimizing player's turn.\n",
        "        value = math.inf\n",
        "        column = random.choice(valid_locations)\n",
        "        for col in valid_locations:\n",
        "            row = get_next_open_row(board, col)\n",
        "            b_copy = board.copy()\n",
        "            drop_piece(b_copy, row, col, PLAYER_PIECE)\n",
        "            new_score = minimax(b_copy, depth-1, alpha, beta, True)[1]\n",
        "\n",
        "            # Update the best move and beta value.\n",
        "            if new_score < value:\n",
        "                value = new_score\n",
        "                column = col\n",
        "            beta = min(beta, value)\n",
        "\n",
        "            # Prune the search if the alpha value is greater than or equal to beta\n",
        "            if alpha >= beta:\n",
        "                break\n",
        "        return column, value"
      ]
    },
    {
      "cell_type": "markdown",
      "metadata": {
        "id": "8jnwu7XVr9bT"
      },
      "source": [
        "## Playing the Game Against Our AI Player"
      ]
    },
    {
      "cell_type": "code",
      "execution_count": null,
      "metadata": {
        "id": "cUjQV4wOGxGC"
      },
      "outputs": [],
      "source": [
        "# Create an empty game board.\n",
        "board = create_board()\n",
        "\n",
        "# Initialize game state variables.\n",
        "game_over = False\n",
        "turn = random.randint(PLAYER, AI)\n",
        "\n",
        "# Print the initial game board.\n",
        "print_board(board)\n",
        "print(\"\\n\")\n",
        "\n",
        "# Main game loop\n",
        "while not game_over:\n",
        "    # Player 1's turn\n",
        "    if turn == PLAYER:\n",
        "        # Get player input for column selection.\n",
        "        col = int(input(\"Player 1 Make your selection (0-6):\"))\n",
        "        print(\"\\n\")\n",
        "        # Check if the selected column is a valid location.\n",
        "        if is_valid_location(board, col):\n",
        "            # Find the next open row in the selected column and drop the player's piece.\n",
        "            row = get_next_open_row(board, col)\n",
        "            drop_piece(board, row, col, PLAYER_PIECE)\n",
        "\n",
        "            # Check if Player 1 has a winning move.\n",
        "            if winning_move(board, PLAYER_PIECE):\n",
        "                print(\"You win, congratulations!\")\n",
        "                game_over = True\n",
        "                print_board(board)\n",
        "                break\n",
        "\n",
        "        # Print the current game board and switch to the next turn\n",
        "        print_board(board)\n",
        "        print(\"\\n\")\n",
        "        turn += 1\n",
        "        turn= turn % 2\n",
        "\n",
        "    # Player 2's turn (AI)\n",
        "    if turn == AI and not game_over:\n",
        "        input(\"Press Enter for Player 2 to go: \")\n",
        "        print(\"\\n\")\n",
        "        # Use the minimax algorithm to find the best move for the AI.\n",
        "        col, minimax_score = minimax(board, 3, -math.inf, math.inf, True)\n",
        "\n",
        "        # Check if the selected column is a valid location.\n",
        "        if is_valid_location(board, col):\n",
        "            # Find the next open row in the selected column and drop the AI's piece.\n",
        "            row = get_next_open_row(board, col)\n",
        "            drop_piece(board, row, col, AI_PIECE)\n",
        "\n",
        "            # Check if Player 2 (AI) has a winning move.\n",
        "            if winning_move(board, AI_PIECE):\n",
        "                game_over = True\n",
        "                print_board(board)\n",
        "                print(\"\\n\")\n",
        "                print(\"The AI wins, better luck next time!\")\n",
        "                break\n",
        "\n",
        "        # Print the current game board and switch to the next turn.\n",
        "        print_board(board)\n",
        "        print(\"\\n\")\n",
        "        turn += 1\n",
        "        turn= turn % 2\n"
      ]
    }
  ],
  "metadata": {
    "colab": {
      "provenance": []
    },
    "kernelspec": {
      "display_name": "Python 3",
      "name": "python3"
    },
    "language_info": {
      "name": "python"
    }
  },
  "nbformat": 4,
  "nbformat_minor": 0
}
